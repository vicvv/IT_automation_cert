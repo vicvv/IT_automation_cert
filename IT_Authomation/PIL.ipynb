{
 "cells": [
  {
   "cell_type": "code",
   "execution_count": 1,
   "id": "61d3227d",
   "metadata": {},
   "outputs": [],
   "source": [
    "import PIL"
   ]
  },
  {
   "cell_type": "code",
   "execution_count": null,
   "id": "a3613dd9",
   "metadata": {},
   "outputs": [],
   "source": [
    "'''Project Problem Statement\n",
    "To complete this module, you'll need to write a script that processes a bunch of images. \n",
    "It turns out that your company is in the process of updating its website, and a design \n",
    "contractor has been hired to create some new icon graphics for the site. However, \n",
    "the contractor has delivered the final designs and they’re in the wrong format, \n",
    "rotated 90° and too large. You’re unable to get in contact with the designers and your \n",
    "own deadline is approaching fast. You’ll need to use Python to get these images ready for launch!\n",
    "\n",
    "So, how will you do this? You'll need to go through a folder full of images and operate \n",
    "with each of them. On each image, you'll use PIL methods like the ones we saw in the \n",
    "examples, and then write the new images in the right place.\n",
    "\n",
    "If this sounds tricky, don't panic! You've already seen everything you need to do this, \n",
    "and now it's time to put it into practice.\n",
    "\n",
    "As in the previous courses, the assessment will be done on a Virtual Machine running \n",
    "in the Cloud, thanks to the Qwiklabs infrastructure. You'll only have access to the VM \n",
    "for a limited amount of time, so we recommend that you write the script locally in \n",
    "your computer first, and only start the lab once your script is working correctly.\n",
    "\n",
    "Good luck, you've got this!'''"
   ]
  },
  {
   "cell_type": "code",
   "execution_count": 12,
   "id": "e9a0cfed",
   "metadata": {},
   "outputs": [
    {
     "data": {
      "text/plain": [
       "16"
      ]
     },
     "execution_count": 12,
     "metadata": {},
     "output_type": "execute_result"
    }
   ],
   "source": [
    "2**4"
   ]
  },
  {
   "cell_type": "code",
   "execution_count": null,
   "id": "c34b82a4",
   "metadata": {},
   "outputs": [],
   "source": []
  }
 ],
 "metadata": {
  "kernelspec": {
   "display_name": "Python 3 (ipykernel)",
   "language": "python",
   "name": "python3"
  },
  "language_info": {
   "codemirror_mode": {
    "name": "ipython",
    "version": 3
   },
   "file_extension": ".py",
   "mimetype": "text/x-python",
   "name": "python",
   "nbconvert_exporter": "python",
   "pygments_lexer": "ipython3",
   "version": "3.7.2"
  }
 },
 "nbformat": 4,
 "nbformat_minor": 5
}
