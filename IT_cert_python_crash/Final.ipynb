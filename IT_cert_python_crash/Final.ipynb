{
 "cells": [
  {
   "cell_type": "code",
   "execution_count": 7,
   "id": "48c61ccb",
   "metadata": {},
   "outputs": [
    {
     "data": {
      "text/plain": [
       "True"
      ]
     },
     "execution_count": 7,
     "metadata": {},
     "output_type": "execute_result"
    }
   ],
   "source": [
    "type(2)== int"
   ]
  },
  {
   "cell_type": "code",
   "execution_count": 27,
   "id": "d14cdfe2",
   "metadata": {},
   "outputs": [
    {
     "name": "stdout",
     "output_type": "stream",
     "text": [
      "{'user': [2], 'clava': [1], 'sam': [1, 5]}\n",
      "{'user': [2], 'clava': [1], 'sam': [1, 6]}\n"
     ]
    }
   ],
   "source": [
    "#h={'user':[2,1]}\n",
    "h={}\n",
    "l =['user','clava', 'user','sam']\n",
    "for u in l:\n",
    "  if u in h:\n",
    "    h[u][0] += 1\n",
    "  else:\n",
    "    h[u]=[h.get(u,0)+1]\n",
    "h[u].append(5)\n",
    "print(h)\n",
    "h['sam'][1]+=1\n",
    "print(h)"
   ]
  },
  {
   "cell_type": "code",
   "execution_count": 42,
   "id": "101c811b",
   "metadata": {},
   "outputs": [
    {
     "ename": "NameError",
     "evalue": "name 'values' is not defined",
     "output_type": "error",
     "traceback": [
      "\u001b[0;31m---------------------------------------------------------------------------\u001b[0m",
      "\u001b[0;31mNameError\u001b[0m                                 Traceback (most recent call last)",
      "\u001b[0;32m/var/folders/85/btrqvyzx4flgy2htrsc7py8r0000gn/T/ipykernel_93862/834588602.py\u001b[0m in \u001b[0;36m<module>\u001b[0;34m\u001b[0m\n\u001b[1;32m      2\u001b[0m dict = {'ravi': '10', 'rajnish': '9',\n\u001b[1;32m      3\u001b[0m         'sanjeev': '15', 'yash': '2', 'suraj': '32'}\n\u001b[0;32m----> 4\u001b[0;31m \u001b[0mdict1\u001b[0m \u001b[0;34m=\u001b[0m \u001b[0mOrderedDict\u001b[0m\u001b[0;34m(\u001b[0m\u001b[0msorted\u001b[0m\u001b[0;34m(\u001b[0m\u001b[0mdict\u001b[0m\u001b[0;34m.\u001b[0m\u001b[0mitems\u001b[0m\u001b[0;34m(\u001b[0m\u001b[0;34m)\u001b[0m\u001b[0;34m,\u001b[0m\u001b[0mkey\u001b[0m\u001b[0;34m=\u001b[0m\u001b[0mvalues\u001b[0m\u001b[0;34m,\u001b[0m\u001b[0mreverse\u001b[0m \u001b[0;34m=\u001b[0m \u001b[0;32mTrue\u001b[0m\u001b[0;34m)\u001b[0m\u001b[0;34m)\u001b[0m\u001b[0;34m\u001b[0m\u001b[0;34m\u001b[0m\u001b[0m\n\u001b[0m\u001b[1;32m      5\u001b[0m \u001b[0;32mfor\u001b[0m \u001b[0md\u001b[0m\u001b[0;34m,\u001b[0m\u001b[0mv\u001b[0m \u001b[0;32min\u001b[0m \u001b[0mdict1\u001b[0m\u001b[0;34m.\u001b[0m\u001b[0mitems\u001b[0m\u001b[0;34m(\u001b[0m\u001b[0;34m)\u001b[0m\u001b[0;34m:\u001b[0m\u001b[0;34m\u001b[0m\u001b[0;34m\u001b[0m\u001b[0m\n\u001b[1;32m      6\u001b[0m   \u001b[0mprint\u001b[0m\u001b[0;34m(\u001b[0m\u001b[0md\u001b[0m\u001b[0;34m,\u001b[0m\u001b[0mv\u001b[0m\u001b[0;34m)\u001b[0m\u001b[0;34m\u001b[0m\u001b[0;34m\u001b[0m\u001b[0m\n",
      "\u001b[0;31mNameError\u001b[0m: name 'values' is not defined"
     ]
    }
   ],
   "source": [
    "\n",
    "from collections import OrderedDict\n",
    "dict = {'ravi': '10', 'rajnish': '9',\n",
    "        'sanjeev': '15', 'yash': '2', 'suraj': '32'}\n",
    "dict1 = OrderedDict(sorted(dict.items(),key=values,reverse = True))\n",
    "for d,v in dict1.items():\n",
    "  print(d,v)"
   ]
  },
  {
   "cell_type": "code",
   "execution_count": null,
   "id": "de775b0d",
   "metadata": {},
   "outputs": [],
   "source": [
    "import re\n",
    "import csv\n",
    "\n",
    "\n",
    "logs = open(\"syslog.log\",\"r\").readlines()\n",
    "err_count = {}\n",
    "\n",
    "for log in logs:\n",
    "    error = re.findall(r'ERROR.*\\(',log)\n",
    "    if len(error) > 0:\n",
    "        log_text = error[0].replace(\"ERROR\",\"\").replace(\"(\",\"\").strip()\n",
    "        err_count[log_text]= err_count.get(log_text,0) + 1\n",
    "        \n",
    "rows = dict(sorted(err_count.items(), key=lambda item: item[1], reverse=True))\n",
    "\n",
    "with open('error_message.csv', 'w', newline='') as outcsv:\n",
    "    writer = csv.DictWriter(outcsv, fieldnames = ['Error', 'Count'])\n",
    "    writer.writeheader()\n",
    "\n",
    "    for key,value in rows.items():\n",
    "        writer.writerow({'Error' : key, 'Count': value})\n",
    "   \n",
    "\n",
    "\n",
    "all_count = {}\n",
    "for log in logs:\n",
    "    username = re.search(r'\\(.*\\)',log).group().strip(\"()\")\n",
    "    error = re.search(r'(ERROR|INFO)',log).group()\n",
    "    if username not in all_count:\n",
    "        all_count[username] = [error]\n",
    "    else:\n",
    "        all_count[username] += [error]\n",
    "\n",
    "all_sorted = sorted(all_count.items(),key=lambda item: item[0])\n",
    "#print(all_sorted)\n",
    "\n",
    "\n",
    "with open('user_statistics.csv', 'w', newline='') as outcsv:\n",
    "    writer = csv.DictWriter(outcsv, fieldnames = [\"Username\", \"INFO\", \"ERROR\"])\n",
    "    writer.writeheader()\n",
    "    \n",
    "    for k,v in all_sorted:\n",
    "        writer.writerow({\"Username\":k, \"INFO\":v.count('INFO'), \"ERROR\":v.count('ERROR')})"
   ]
  }
 ],
 "metadata": {
  "kernelspec": {
   "display_name": "Python 3 (ipykernel)",
   "language": "python",
   "name": "python3"
  },
  "language_info": {
   "codemirror_mode": {
    "name": "ipython",
    "version": 3
   },
   "file_extension": ".py",
   "mimetype": "text/x-python",
   "name": "python",
   "nbconvert_exporter": "python",
   "pygments_lexer": "ipython3",
   "version": "3.7.2"
  }
 },
 "nbformat": 4,
 "nbformat_minor": 5
}
