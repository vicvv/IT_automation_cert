{
 "cells": [
  {
   "cell_type": "code",
   "execution_count": 1,
   "id": "6ee3408e",
   "metadata": {},
   "outputs": [
    {
     "name": "stdout",
     "output_type": "stream",
     "text": [
      "[[8, 6], [12, 4], [16, 3], [24, 2], [48, 1]]\n"
     ]
    }
   ],
   "source": [
    "#pfind pars of numbers are factors of the number\n",
    "def factors(num):\n",
    "  r =[]\n",
    "  for n in range( num + 1):\n",
    "    for x in range(n+1):\n",
    "      if n*x == num:\n",
    "          r.append([n,x])\n",
    "  return r\n",
    "\n",
    "print(factors(48))"
   ]
  },
  {
   "cell_type": "code",
   "execution_count": 6,
   "id": "125273a4",
   "metadata": {},
   "outputs": [
    {
     "name": "stdout",
     "output_type": "stream",
     "text": [
      "The factors of 14 are:\n",
      "1\n",
      "2\n",
      "7\n",
      "14\n"
     ]
    }
   ],
   "source": [
    "#Find all numbers that you can divide number to .\n",
    "def print_factors(x):\n",
    "   print(\"The factors of\",x,\"are:\")\n",
    "   for i in range(1, x + 1):\n",
    "       if x % i == 0:\n",
    "           print(i)\n",
    "\n",
    "num = 14\n",
    "\n",
    "print_factors(num)"
   ]
  },
  {
   "cell_type": "code",
   "execution_count": 111,
   "id": "1b954181",
   "metadata": {},
   "outputs": [
    {
     "name": "stdout",
     "output_type": "stream",
     "text": [
      "[2, 3, 3]\n"
     ]
    }
   ],
   "source": [
    "# Prime factors, go down to the prime numbers\n",
    "\n",
    "is_prime = lambda n: n>1 and all(n%i for i in range(2,int(n**0.5)+1))\n",
    "\n",
    "def primeFactors (num, d):\n",
    "    if num < d:\n",
    "        return []\n",
    "    if num % d == 0:\n",
    "        return [d] + primeFactors (num / d, d)\n",
    "    return primeFactors (num, d + 1)\n",
    "  \n",
    "print(primeFactors(18,2))\n",
    "# 18 is divisible by 2 and it will get 9. 9 is a product of 3*3 so the answer is [2,3,3]\n"
   ]
  },
  {
   "cell_type": "code",
   "execution_count": 145,
   "id": "ddaa57df",
   "metadata": {},
   "outputs": [
    {
     "name": "stdout",
     "output_type": "stream",
     "text": [
      "[3, 157, 733]\n"
     ]
    }
   ],
   "source": [
    "def primeFact (i, f):\n",
    "    if i < f:\n",
    "        return []\n",
    "    if i % f == 0:\n",
    "        return [f] + primeFact (i / f, 2)\n",
    "    return primeFact (i, f + 1)\n",
    "  \n",
    "print(primeFact(345243,2))\n",
    "# print(primeFact(73,2))\n",
    "# print(primeFact(75,2))\n",
    "# print(primeFact(89,2))\n",
    "  "
   ]
  },
  {
   "cell_type": "code",
   "execution_count": 146,
   "id": "102501fe",
   "metadata": {},
   "outputs": [
    {
     "data": {
      "text/plain": [
       "6"
      ]
     },
     "execution_count": 146,
     "metadata": {},
     "output_type": "execute_result"
    }
   ],
   "source": [
    "# what is the day of the week\n",
    "300%7"
   ]
  }
 ],
 "metadata": {
  "kernelspec": {
   "display_name": "Python 3.7.2 ('base')",
   "language": "python",
   "name": "python3"
  },
  "language_info": {
   "codemirror_mode": {
    "name": "ipython",
    "version": 3
   },
   "file_extension": ".py",
   "mimetype": "text/x-python",
   "name": "python",
   "nbconvert_exporter": "python",
   "pygments_lexer": "ipython3",
   "version": "3.7.2"
  },
  "vscode": {
   "interpreter": {
    "hash": "99b146a13f08811f2242e57f019cb3567881b6619f6a41eef2fc438cb8f770bf"
   }
  }
 },
 "nbformat": 4,
 "nbformat_minor": 5
}
