{
 "cells": [
  {
   "cell_type": "code",
   "execution_count": 46,
   "id": "26ef0ed6",
   "metadata": {},
   "outputs": [
    {
     "name": "stdout",
     "output_type": "stream",
     "text": [
      "True\n"
     ]
    }
   ],
   "source": [
    "'''Fill in the code to check if the text passed looks like a standard sentence, \n",
    "meaning that it starts with an uppercase letter, followed by at \n",
    "least some lowercase letters or a space, and ends with a period, question mark, \n",
    "or exclamation point. '''\n",
    "\n",
    "#^[A-Z][A-Za-z\\s]+[\\.!\\?]$\n",
    "import re\n",
    "def check_sentence(text):\n",
    "  result = re.search(r\"\\!$\", text)\n",
    "  #result = re.search(r\"^[A-Z][a-z\\s]+[.!?]$\", text)\n",
    " \n",
    "  return result != None\n",
    "\n",
    "print(check_sentence(\"Is this is a sentence!\")) # True\n",
    "# print(check_sentence(\"is this is a sentence?\")) # False\n",
    "# print(check_sentence(\"Hello\")) # False\n",
    "# print(check_sentence(\"1-2-3-GO!\")) # False\n",
    "# print(check_sentence(\"A star is born.\")) # True"
   ]
  },
  {
   "cell_type": "code",
   "execution_count": 54,
   "id": "94dd8137",
   "metadata": {},
   "outputs": [
    {
     "name": "stdout",
     "output_type": "stream",
     "text": [
      "True\n",
      "True\n",
      "False\n",
      "False\n"
     ]
    }
   ],
   "source": [
    "'''The check_time function checks for the time format of a 12-hour clock, as follows: \n",
    "the hour is between 1 and 12, with no leading zero, followed by a colon, then minutes \n",
    "between 00 and 59, then an optional space, and then AM or PM, in upper or lower case. \n",
    "Fill in the regular expression to do that. How many of the concepts that you just \n",
    "learned can you use here?'''\n",
    "\n",
    "\n",
    "import re\n",
    "def check_time(text):\n",
    "  pattern = r\"[1-9][0-2]?:[0-5][0-9] ?[am|pm|AM|PM]\"\n",
    "  result = re.search(pattern, text)\n",
    "  return result != None\n",
    "\n",
    "print(check_time(\"12:45pm\")) # True\n",
    "print(check_time(\"9:59 am\")) # True\n",
    "print(check_time(\"6:60 am\")) # False\n",
    "print(check_time(\"five o'clock\")) # False"
   ]
  },
  {
   "cell_type": "code",
   "execution_count": 53,
   "id": "532f1e47",
   "metadata": {},
   "outputs": [
    {
     "name": "stdout",
     "output_type": "stream",
     "text": [
      "True\n",
      "True\n",
      "False\n",
      "True\n",
      "True\n"
     ]
    }
   ],
   "source": [
    "import re\n",
    "def contains_acronym(text):\n",
    "  pattern = \"\\(\"\n",
    "  result = re.search(pattern, text)\n",
    "  return result != None\n",
    "\n",
    "print(contains_acronym(\"Instant messaging (IM) is a set of communication technologies used for text-based communication\")) # True\n",
    "print(contains_acronym(\"American Standard Code for Information Interchange (ASCII) is a character encoding standard for electronic communication\")) # True\n",
    "print(contains_acronym(\"Please do NOT enter without permission!\")) # False\n",
    "print(contains_acronym(\"PostScript is a fourth-generation programming language (4GL)\")) # True\n",
    "print(contains_acronym(\"Have fun using a self-contained underwater breathing apparatus (Scuba)!\")) # True"
   ]
  },
  {
   "cell_type": "code",
   "execution_count": 57,
   "id": "6718b756",
   "metadata": {},
   "outputs": [
    {
     "name": "stdout",
     "output_type": "stream",
     "text": [
      "John F. Kennedy\n"
     ]
    }
   ],
   "source": [
    "import re\n",
    "def rearrange_name(name):\n",
    "  result = re.search(r\"^(\\w*), (\\w*\\s\\w\\.)$\", name)\n",
    "  if result == None:\n",
    "    return name\n",
    "  return \"{} {}\".format(result[2], result[1])\n",
    "\n",
    "name=rearrange_name(\"Kennedy, John F.\")\n",
    "print(name)"
   ]
  },
  {
   "cell_type": "code",
   "execution_count": 66,
   "id": "8858b3c8",
   "metadata": {},
   "outputs": [
    {
     "name": "stdout",
     "output_type": "stream",
     "text": [
      "12345 (ERROR)\n",
      "None\n",
      "None\n",
      "67890 (RUNNING)\n"
     ]
    }
   ],
   "source": [
    "import re\n",
    "def extract_pid(log_line):\n",
    "    regex = r\"\\[(\\d+)\\]: ([A-Z]*) \"\n",
    "    result = re.search(regex, log_line)\n",
    "    if result is None:\n",
    "        return None\n",
    "    return \"{} ({})\".format(result[1], result[2])\n",
    "\n",
    "print(extract_pid(\"July 31 07:51:48 mycomputer bad_process[12345]: ERROR Performing package upgrade\")) # 12345 (ERROR)\n",
    "print(extract_pid(\"99 elephants in a [cage]\")) # None\n",
    "print(extract_pid(\"A string that also has numbers [34567] but no uppercase message\")) # None\n",
    "print(extract_pid(\"July 31 08:08:08 mycomputer new_process[67890]: RUNNING Performing backup\")) # 67890 (RUNNING)\n"
   ]
  },
  {
   "cell_type": "code",
   "execution_count": 67,
   "id": "219ef815",
   "metadata": {},
   "outputs": [
    {
     "data": {
      "text/plain": [
       "['One sentence. Ano', 'r one? And ', ' l', 'st one!']"
      ]
     },
     "execution_count": 67,
     "metadata": {},
     "output_type": "execute_result"
    }
   ],
   "source": [
    "k=re.split(r\"the|a\", \"One sentence. Another one? And the last one!\")\n",
    "k"
   ]
  },
  {
   "cell_type": "code",
   "execution_count": null,
   "id": "291db232",
   "metadata": {},
   "outputs": [],
   "source": [
    "'''The multi_vowel_words function returns all words with 3 or more consecutive vowels (a, e, i, o, u). \n",
    "Fill in the regular expression to do that.'''\n",
    "\n",
    "import re\n",
    "def multi_vowel_words(text):\n",
    "  pattern = r'\\b\\w*[aeiou]{3}\\w*\\b'\n",
    "  result = re.findall(pattern, text)\n",
    "  return result\n",
    "\n",
    "print(multi_vowel_words(\"Life is beautiful\")) \n",
    "# ['beautiful']\n",
    "\n",
    "print(multi_vowel_words(\"Obviously, the queen is courageous and gracious.\")) \n",
    "# ['Obviously', 'queen', 'courageous', 'gracious']\n",
    "\n",
    "print(multi_vowel_words(\"The rambunctious children had to sit quietly and await their delicious dinner.\")) \n",
    "# ['rambunctious', 'quietly', 'delicious']\n",
    "\n",
    "print(multi_vowel_words(\"The order of a data queue is First In First Out (FIFO)\")) \n",
    "# ['queue']\n",
    "\n",
    "print(multi_vowel_words(\"Hello world!\")) \n",
    "# []"
   ]
  },
  {
   "cell_type": "code",
   "execution_count": 68,
   "id": "af94fa3a",
   "metadata": {},
   "outputs": [
    {
     "name": "stdout",
     "output_type": "stream",
     "text": [
      "// Start of program\n",
      "  number = 0   // Initialize the variable\n",
      "  number += 1   // Increment the variable\n",
      "  return(number)\n"
     ]
    }
   ],
   "source": [
    "'''The transform_comments function converts comments in a Python script into those \n",
    "usable by a C compiler. This means looking for text that begins with a hash mark (#) and replacing \n",
    "it with double slashes (//), which is the C single-line comment indicator. For the purpose of this \n",
    "exercise, we'll ignore the possibility of a hash mark embedded inside of a Python command, \n",
    "and assume that it's only used to indicate a comment. We also want to treat repetitive \n",
    "hash marks (##), (###), etc., as a single comment indicator, to be replaced with just (//) and not \n",
    "(#//) or (//#). \n",
    "Fill in the parameters of the substitution method to complete this function: '''\n",
    "\n",
    "\n",
    "import re\n",
    "def transform_comments(line_of_code):\n",
    "  result = re.sub(r'\\#{1,}', r'//', line_of_code)\n",
    "  return result\n",
    "\n",
    "print(transform_comments(\"### Start of program\")) \n",
    "# Should be \"// Start of program\"\n",
    "print(transform_comments(\"  number = 0   ## Initialize the variable\")) \n",
    "# Should be \"  number = 0   // Initialize the variable\"\n",
    "print(transform_comments(\"  number += 1   # Increment the variable\")) \n",
    "# Should be \"  number += 1   // Increment the variable\"\n",
    "print(transform_comments(\"  return(number)\")) \n",
    "# Should be \"  return(number)\""
   ]
  },
  {
   "cell_type": "code",
   "execution_count": 72,
   "id": "f16288fa",
   "metadata": {},
   "outputs": [
    {
     "name": "stdout",
     "output_type": "stream",
     "text": [
      "My number is (212) 345-9999.\n",
      "Please call (888) 555-1234\n",
      "(123) 123-12345\n",
      "Phone number of Buckingham Palace is +44 303 123 7300\n"
     ]
    }
   ],
   "source": [
    "'''The convert_phone_number function checks for a U.S. phone number format: XXX-XXX-XXXX \n",
    "(3 digits followed by a dash, 3 more digits followed by a dash, and 4 digits), and converts it \n",
    "to a more formal format that looks like this: (XXX) XXX-XXXX. \n",
    "Fill in the regular expression to complete this function.'''\n",
    "\n",
    "import re\n",
    "def convert_phone_number(phone):\n",
    "  result = re.sub(r\"\\b(\\d{3})-(\\d{3})-(\\d{4})\\b\",r\"(\\1) \\2-\\3\", phone)\n",
    "  return result\n",
    "\n",
    "print(convert_phone_number(\"My number is 212-345-9999.\")) # My number is (212) 345-9999.\n",
    "print(convert_phone_number(\"Please call 888-555-1234\")) # Please call (888) 555-1234\n",
    "print(convert_phone_number(\"123-123-12345\")) # 123-123-12345\n",
    "print(convert_phone_number(\"Phone number of Buckingham Palace is +44 303 123 7300\")) # Phone number of Buckingham Palace is +44 303 123 7300\n",
    "\n"
   ]
  },
  {
   "cell_type": "code",
   "execution_count": null,
   "id": "4b61a9ba",
   "metadata": {},
   "outputs": [],
   "source": [
    "import re\n",
    "import csv\n",
    "\n",
    "def contains_domain(address, domain):\n",
    "  \"\"\"Returns True if the email address contains the given,domain,in the domain position, false if not.\"\"\"\n",
    "  domain = r'[\\w\\.-]+@'+domain+'$'\n",
    "  if re.match(domain,address):\n",
    "    return True\n",
    "  return False\n",
    "\n",
    "def replace_domain(address, old_domain, new_domain):\n",
    "  \"\"\"Replaces the old domain with the new domain in the received address.\"\"\"\n",
    "  old_domain_pattern = r'' + old_domain + '$'\n",
    "  address = re.sub(old_domain_pattern, new_domain, address)\n",
    "  return address\n",
    "\n",
    "def main():\n",
    "  \"\"\"Processes the list of emails, replacing any instances of the old domain with the new domain.\"\"\"\n",
    "  old_domain, new_domain = 'abc.edu', 'xyz.edu'\n",
    "  \n",
    "  \n",
    "  csv_file_location = '/home/student-00-cdae4528af94/data/user_emails.csv'\n",
    "\n",
    "  report_file = '/home/student-00-cdae4528af94/data' + '/updated_user_emails.csv'\n",
    "  \n",
    "  user_email_list = []\n",
    "  old_domain_email_list = []\n",
    "  new_domain_email_list = []\n",
    "  \n",
    "  with open(csv_file_location, 'r') as f:\n",
    "    user_data_list = list(csv.reader(f))\n",
    "    user_email_list = [data[1].strip() for data in user_data_list[1:]]\n",
    "    for email_address in user_email_list:\n",
    "      if contains_domain(email_address, old_domain):\n",
    "        old_domain_email_list.append(email_address)\n",
    "        replaced_email = replace_domain(email_address, old_domain, new_domain)\n",
    "        new_domain_email_list.append(replaced_email)\n",
    "    email_key = ' ' + 'Email Address'\n",
    "    email_index = user_data_list[0].index(email_key)\n",
    "    for user in user_data_list[1:]:\n",
    "      for old_domain, new_domain in zip(old_domain_email_list, new_domain_email_list):\n",
    "        if user[email_index] == ' ' + old_domain:\n",
    "          user[email_index] = ' ' + new_domain\n",
    "  f.close()\n",
    "  with open(report_file, 'w+') as output_file:\n",
    "    writer = csv.writer(output_file)\n",
    "    writer.writerows(user_data_list)\n",
    "    output_file.close()\n",
    "main()"
   ]
  },
  {
   "cell_type": "code",
   "execution_count": 73,
   "id": "5d10f637",
   "metadata": {},
   "outputs": [
    {
     "ename": "SyntaxError",
     "evalue": "invalid syntax (3384605742.py, line 2)",
     "output_type": "error",
     "traceback": [
      "\u001b[0;36m  File \u001b[0;32m\"/var/folders/85/btrqvyzx4flgy2htrsc7py8r0000gn/T/ipykernel_67092/3384605742.py\"\u001b[0;36m, line \u001b[0;32m2\u001b[0m\n\u001b[0;31m    Blossom Gill, blossom@abc.edu\u001b[0m\n\u001b[0m               ^\u001b[0m\n\u001b[0;31mSyntaxError\u001b[0m\u001b[0;31m:\u001b[0m invalid syntax\n"
     ]
    }
   ],
   "source": [
    "Full Name, Email Address\n",
    "Blossom Gill, blossom@abc.edu\n",
    "Hayes Delgado, nonummy@utnisia.com\n",
    "Petra Jones, ac@abc.edu\n",
    "Oleg Noel, noel@liberomauris.ca\n",
    "Ahmed Miller, ahmed.miller@nequenonquam.co.uk\n",
    "Macaulay Douglas, mdouglas@abc.edu\n",
    "Aurora Grant, enim.non@abc.edu\n",
    "Madison Mcintosh, mcintosh@nisiaenean.net\n",
    "Montana Powell, montanap@semmagna.org\n",
    "Rogan Robinson, rr.robinson@abc.edu\n",
    "Simon Rivera, sri@abc.edu\n",
    "Benedict Pacheco, bpacheco@abc.edu\n",
    "Maisie Hendrix, mai.hendrix@abc.edu\n",
    "Xaviera Gould, xlg@utnisia.net\n",
    "Oren Rollins, oren@semmagna.com\n",
    "Flavia Santiago, flavia@utnisia.net\n",
    "Jackson Owens, jackowens@abc.edu\n",
    "Britanni Humphrey, britanni@ut.net\n",
    "Kirk Nixon, kirknixon@abc.edu\n",
    "Bree Campbell, breee@utnisia.net' "
   ]
  },
  {
   "cell_type": "code",
   "execution_count": 74,
   "id": "07cd2c87",
   "metadata": {},
   "outputs": [
    {
     "name": "stdout",
     "output_type": "stream",
     "text": [
      "Object ` vi user_emails.csv` not found.\n"
     ]
    }
   ],
   "source": [
    "? vi user_emails.csv"
   ]
  },
  {
   "cell_type": "code",
   "execution_count": null,
   "id": "4b4128ca",
   "metadata": {},
   "outputs": [],
   "source": []
  }
 ],
 "metadata": {
  "kernelspec": {
   "display_name": "Python 3 (ipykernel)",
   "language": "python",
   "name": "python3"
  },
  "language_info": {
   "codemirror_mode": {
    "name": "ipython",
    "version": 3
   },
   "file_extension": ".py",
   "mimetype": "text/x-python",
   "name": "python",
   "nbconvert_exporter": "python",
   "pygments_lexer": "ipython3",
   "version": "3.7.2"
  }
 },
 "nbformat": 4,
 "nbformat_minor": 5
}
