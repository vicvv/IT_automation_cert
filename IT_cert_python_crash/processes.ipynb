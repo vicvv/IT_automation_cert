{
 "cells": [
  {
   "cell_type": "code",
   "execution_count": 41,
   "id": "999eb8bd",
   "metadata": {},
   "outputs": [
    {
     "name": "stdout",
     "output_type": "stream",
     "text": [
      "Jul 6 14:01:23 29440\n",
      "Jul 6 14:01:23 pid:29440\n",
      "Jul 6 14:02:08 29187\n",
      "Jul 6 14:02:08 pid:29187\n",
      "Jul 6 14:02:09 29187\n",
      "Jul 6 14:02:09 pid:29187\n",
      "Jul 6 14:03:01 29440\n",
      "Jul 6 14:03:01 pid:29440\n",
      "Jul 6 14:03:40 29807\n",
      "Jul 6 14:03:40 pid:29807\n"
     ]
    }
   ],
   "source": [
    "import re\n",
    "def show_time_of_pid(line):\n",
    "  pattern1 = r'(^\\w{3} \\d \\d+:\\d+:\\d+)'\n",
    "  #' * (\\[(\\d+)\\])'\n",
    "  pattern2 = r'\\[(\\d+)\\]'\n",
    "  result1 = re.search(pattern1, line)\n",
    "  result2 = re.search(pattern2, line)\n",
    "  \n",
    "  print(result1[1], result2[1])\n",
    "  \n",
    "  r = result2.group()[1:-1]\n",
    "  return result1.group() + ' pid:' + r\n",
    "  #return \"{} pid:{}\".format(result[0], result[1])\n",
    "\n",
    "print(show_time_of_pid(\"Jul 6 14:01:23 computer.name CRON[29440]: USER (good_user)\")) # Jul 6 14:01:23 pid:29440\n",
    "\n",
    "print(show_time_of_pid(\"Jul 6 14:02:08 computer.name jam_tag=psim[29187]: (UUID:006)\")) # Jul 6 14:02:08 pid:29187\n",
    "\n",
    "print(show_time_of_pid(\"Jul 6 14:02:09 computer.name jam_tag=psim[29187]: (UUID:007)\")) # Jul 6 14:02:09 pid:29187\n",
    "\n",
    "print(show_time_of_pid(\"Jul 6 14:03:01 computer.name CRON[29440]: USER (naughty_user)\")) # Jul 6 14:03:01 pid:29440\n",
    "\n",
    "print(show_time_of_pid(\"Jul 6 14:03:40 computer.name cacheclient[29807]: start syncing from \\\"0xDEADBEEF\\\"\")) # Jul 6 14:03:40 pid:29807"
   ]
  },
  {
   "cell_type": "code",
   "execution_count": null,
   "id": "c07733b6",
   "metadata": {},
   "outputs": [],
   "source": [
    "import sys\n",
    "import re\n",
    "logfile = sys.argv[1]\n",
    "\n",
    "with open (logfile) as f:\n",
    "  for line in f:\n",
    "    if 'CRON' not in line:\n",
    "      continue\n",
    "    pattern = r'USER' \\((\\w+)\\)$'\n",
    "    result = re.search(pattern, line)\n",
    "    print(result[1])"
   ]
  },
  {
   "cell_type": "code",
   "execution_count": null,
   "id": "7b1e7166",
   "metadata": {},
   "outputs": [],
   "source": [
    "# finding users who run cronjob and prining how many times.\n",
    "\n",
    "import sys\n",
    "import re\n",
    "\n",
    "logfile = sys.argv[1]\n",
    "usernames ={}\n",
    "\n",
    "with open (logfile) as f:\n",
    "  for line in f:\n",
    "    if 'CRON' not in line:\n",
    "      continue\n",
    "    pattern = r'USER' \\((\\w+)\\)$'\n",
    "    result = re.search(pattern, line)\n",
    "    print(result[1])\n",
    "    if result is None:\n",
    "      continue\n",
    "    name = result[1]\n",
    "    usernames[name] = usernames.get(name, 0) +1\n",
    "print(usernames)"
   ]
  },
  {
   "cell_type": "code",
   "execution_count": 48,
   "id": "6bf5163f",
   "metadata": {},
   "outputs": [
    {
     "name": "stdout",
     "output_type": "stream",
     "text": [
      "<re.Match object; span=(0, 6), match='IP 123'>\n"
     ]
    }
   ],
   "source": [
    "pat = r\"IP (\\d+)$\"\n",
    "st = \"IP 123\"\n",
    "res = re.search(pat, st)\n",
    "print(res)"
   ]
  },
  {
   "cell_type": "code",
   "execution_count": null,
   "id": "7495bb4b",
   "metadata": {},
   "outputs": [],
   "source": [
    "#LOG LAB week4\n",
    "\n",
    "import sys\n",
    "import os\n",
    "import re\n",
    "def error_search(log_file):\n",
    "  error = input(\"What is the error? \")\n",
    "  returned_errors = []\n",
    "  with open(log_file, mode='r',encoding='UTF-8') as file:\n",
    "    for log in  file.readlines():\n",
    "      error_patterns = [\"error\"]\n",
    "      for i in range(len(error.split(' '))):\n",
    "        error_patterns.append(r\"{}\".format(error.split(' ')[i].lower()))\n",
    "      if all(re.search(error_pattern, log.lower()) for error_pattern in error_patterns):\n",
    "        returned_errors.append(log)\n",
    "    file.close()\n",
    "  return returned_errors\n",
    "  \n",
    "def file_output(returned_errors):\n",
    "  with open(os.path.expanduser('~') + '/data/errors_found.log', 'w') as file:\n",
    "    for error in returned_errors:\n",
    "      file.write(error)\n",
    "    file.close()\n",
    "if __name__ == \"__main__\":\n",
    "  log_file = sys.argv[1]\n",
    "  returned_errors = error_search(log_file)\n",
    "  file_output(returned_errors)\n",
    "  sys.exit(0)"
   ]
  },
  {
   "cell_type": "code",
   "execution_count": 50,
   "id": "18dbde88",
   "metadata": {},
   "outputs": [
    {
     "ename": "NameError",
     "evalue": "name 'file' is not defined",
     "output_type": "error",
     "traceback": [
      "\u001b[0;31m---------------------------------------------------------------------------\u001b[0m",
      "\u001b[0;31mNameError\u001b[0m                                 Traceback (most recent call last)",
      "\u001b[0;32m/var/folders/85/btrqvyzx4flgy2htrsc7py8r0000gn/T/ipykernel_75797/287957150.py\u001b[0m in \u001b[0;36m<module>\u001b[0;34m\u001b[0m\n\u001b[1;32m      2\u001b[0m \u001b[0;32mimport\u001b[0m \u001b[0msubprocess\u001b[0m\u001b[0;34m\u001b[0m\u001b[0;34m\u001b[0m\u001b[0m\n\u001b[1;32m      3\u001b[0m \u001b[0;34m\u001b[0m\u001b[0m\n\u001b[0;32m----> 4\u001b[0;31m \u001b[0minfile\u001b[0m \u001b[0;34m=\u001b[0m \u001b[0mfile\u001b[0m\u001b[0;34m.\u001b[0m\u001b[0mtxt\u001b[0m\u001b[0;34m\u001b[0m\u001b[0;34m\u001b[0m\u001b[0m\n\u001b[0m\u001b[1;32m      5\u001b[0m \u001b[0;32mwith\u001b[0m \u001b[0mopen\u001b[0m\u001b[0;34m(\u001b[0m\u001b[0minfle\u001b[0m\u001b[0;34m,\u001b[0m \u001b[0mmode\u001b[0m\u001b[0;34m=\u001b[0m\u001b[0;34m'r'\u001b[0m\u001b[0;34m,\u001b[0m\u001b[0mencoding\u001b[0m\u001b[0;34m=\u001b[0m\u001b[0;34m'UTF-8'\u001b[0m\u001b[0;34m)\u001b[0m \u001b[0;32mas\u001b[0m \u001b[0mfile\u001b[0m\u001b[0;34m:\u001b[0m\u001b[0;34m\u001b[0m\u001b[0;34m\u001b[0m\u001b[0m\n\u001b[1;32m      6\u001b[0m     \u001b[0;32mfor\u001b[0m \u001b[0mline\u001b[0m \u001b[0;32min\u001b[0m  \u001b[0mfile\u001b[0m\u001b[0;34m.\u001b[0m\u001b[0mreadlines\u001b[0m\u001b[0;34m(\u001b[0m\u001b[0;34m)\u001b[0m\u001b[0;34m:\u001b[0m\u001b[0;34m\u001b[0m\u001b[0;34m\u001b[0m\u001b[0m\n",
      "\u001b[0;31mNameError\u001b[0m: name 'file' is not defined"
     ]
    }
   ],
   "source": [
    "#!/usr/bin/env python3\n",
    "import sys\n",
    "import subprocess\n",
    "\n",
    "infile = sys.argv[1]\n",
    "with open(infile, mode='r',encoding='UTF-8') as file:\n",
    "    for line in  file.readlines():\n",
    "      line.strip()\n",
    "      print(line)\n",
    "        \n",
    "\n",
    "      "
   ]
  },
  {
   "cell_type": "code",
   "execution_count": 53,
   "id": "7dac1f73",
   "metadata": {},
   "outputs": [
    {
     "name": "stdout",
     "output_type": "stream",
     "text": [
      "C1M5_Object_Oriented_Programming_V7-load_balancing.ipynb\r\n",
      "C1M6L1_Putting_It_All_Together.ipynb\r\n",
      "C1M6L2_Final_Project_V3.ipynb\r\n",
      "C2M2L1_Reading_And_Writing_Files.ipynb\r\n",
      "CSV-files.ipynb\r\n",
      "IT_math_prep.ipynb\r\n",
      "Practice Quiz Managing Files & Directories.ipynb\r\n",
      "\u001b[34mPythonPrograms\u001b[m\u001b[m\r\n",
      "UnitTest.ipynb\r\n",
      "crash.ipynb\r\n",
      "employees.csv\r\n",
      "file.txt\r\n",
      "flowers.csv\r\n",
      "processes.ipynb\r\n",
      "program.py\r\n",
      "qwiklabs-L29508819.cer\r\n",
      "regular express.ipynb\r\n",
      "report.txt\r\n",
      "user_emails.csv\r\n",
      "-rw-r--r--  1 vicky  staff  92 Sep 16 14:33 file.txt\r\n",
      "/Users/vicky/Desktop/Desktop/CodePracticePython/IT_cert_python\r\n",
      "/data/jane_profile_07272018.doc\r\n",
      "/data/jane_pic_07282018.jpg\r\n",
      "/data/jane_contact_07292018.csv\r\n"
     ]
    }
   ],
   "source": [
    "!ls; ls -l file.txt; pwd; cat file.txt\n",
    "\n"
   ]
  },
  {
   "cell_type": "code",
   "execution_count": null,
   "id": "94b65307",
   "metadata": {},
   "outputs": [],
   "source": []
  },
  {
   "cell_type": "code",
   "execution_count": null,
   "id": "58b518d2",
   "metadata": {},
   "outputs": [],
   "source": []
  }
 ],
 "metadata": {
  "kernelspec": {
   "display_name": "Python 3 (ipykernel)",
   "language": "python",
   "name": "python3"
  },
  "language_info": {
   "codemirror_mode": {
    "name": "ipython",
    "version": 3
   },
   "file_extension": ".py",
   "mimetype": "text/x-python",
   "name": "python",
   "nbconvert_exporter": "python",
   "pygments_lexer": "ipython3",
   "version": "3.7.2"
  }
 },
 "nbformat": 4,
 "nbformat_minor": 5
}
