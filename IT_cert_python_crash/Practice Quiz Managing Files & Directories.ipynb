{
 "cells": [
  {
   "cell_type": "code",
   "execution_count": null,
   "id": "74a06a91",
   "metadata": {},
   "outputs": [],
   "source": [
    "'''\n",
    "The create_python_script function creates a new python script in the current working directory, adds the line of comments to it declared  by the 'comments' variable, \n",
    "and returns the size of the new file. Fill in the gaps to create a script called \"program.py\".\n",
    "'''"
   ]
  },
  {
   "cell_type": "code",
   "execution_count": null,
   "id": "b40ab199",
   "metadata": {},
   "outputs": [],
   "source": [
    "def create_python_script(filename):\n",
    "  comments = \"# Start of a new Python program\"\n",
    "  with open(filename, 'w') as pfile:\n",
    "    filesize = pfile.write(comments)\n",
    "  return(filesize)\n",
    "\n",
    "print(create_python_script(\"program.py\"))"
   ]
  },
  {
   "cell_type": "code",
   "execution_count": null,
   "id": "a2498a40",
   "metadata": {},
   "outputs": [],
   "source": [
    "'''The new_directory function creates a new directory inside the current working directory, then creates a new empty file inside the new directory, and returns the list of files in that directory. \n",
    "Fill in the gaps to create a file \"script.py\" in the directory \"PythonPrograms\". '''"
   ]
  },
  {
   "cell_type": "code",
   "execution_count": null,
   "id": "98afa49a",
   "metadata": {},
   "outputs": [],
   "source": [
    "import os\n",
    "\n",
    "def new_directory(directory, filename):\n",
    "  # Before creating a new directory, check to see if it already exists\n",
    "  if os.path.isdir(directory) == False:\n",
    "    os.mkdir(directory)\n",
    "\n",
    "  # Create the new file inside of the new directory\n",
    "  os.chdir(directory)\n",
    "  with open (filename,'w') as file:\n",
    "    pass\n",
    "\n",
    "  # Return the list of files in the new directory\n",
    "  return os.listdir()\n",
    "\n",
    "print(new_directory(\"PythonPrograms\", \"script.py\"))"
   ]
  },
  {
   "cell_type": "code",
   "execution_count": null,
   "id": "5a1e1e6d",
   "metadata": {},
   "outputs": [],
   "source": [
    "'''The file_date function creates a new file in the current working directory, \n",
    "checks the date that the file was modified, and returns just the date portion of \n",
    "the timestamp in the format of yyyy-mm-dd. Fill in the gaps to create a file \n",
    "called \"newfile.txt\" and check the date that it was modified.\n",
    "\n",
    "1 / 1 point\n",
    "12345678910111213141516\n",
    "'''"
   ]
  },
  {
   "cell_type": "code",
   "execution_count": null,
   "id": "9adca4b4",
   "metadata": {},
   "outputs": [],
   "source": [
    "import os\n",
    "import datetime\n",
    "\n",
    "def file_date(filename):\n",
    "  with open(filename,'w') as file:\n",
    "    pass\n",
    "  timestamp = os.path.getctime(filename)\n",
    "  # Convert the timestamp into a readable format, then into a string\n",
    "  res = datetime.datetime.fromtimestamp(timestamp).strftime('%Y-%m-%d')\n",
    "  # Return just the date portion \n",
    "  # Hint: how many characters are in “yyyy-mm-dd”? \n",
    "  #return (\"{___}\".format(___))\n",
    "  return res\n",
    "\n",
    "print(file_date(\"newfile.txt\")) \n",
    "# Should be today's date in the format of yyyy-mm-dd"
   ]
  },
  {
   "cell_type": "code",
   "execution_count": null,
   "id": "4a6da951",
   "metadata": {},
   "outputs": [],
   "source": [
    "import os\n",
    "import datetime\n",
    "from datetime import date\n",
    "def file_date(filename):\n",
    "  # Create the file in the current directory\n",
    "  os.mkdir(filename)\n",
    "  timestamp = os.path.getmtime(filename)\n",
    "  # Convert the timestamp into a readable format, then into a string\n",
    "  timestamp=date.fromtimestamp(timestamp)\n",
    "  # Return just the date portion \n",
    "  # Hint: how many characters are in “yyyy-mm-dd”? \n",
    "  return (\"{}\".format(timestamp))\n",
    "\n",
    "print(file_date(\"newfile.txt\")) \n",
    "# Should be today's date in the format of yyyy-mm-dd"
   ]
  },
  {
   "cell_type": "code",
   "execution_count": null,
   "id": "fd556642",
   "metadata": {},
   "outputs": [],
   "source": [
    "'''Question 5\n",
    "The parent_directory function returns the name of the directory that's located just above \n",
    "the current working directory. Remember that '..' is a relative path alias \n",
    "that means \"go up to the parent directory\". Fill in the gaps to complete this function.'''"
   ]
  },
  {
   "cell_type": "code",
   "execution_count": 1,
   "id": "7a62d61b",
   "metadata": {},
   "outputs": [
    {
     "name": "stdout",
     "output_type": "stream",
     "text": [
      "/Users/vicky/Desktop/Desktop/CodePracticePython\n"
     ]
    }
   ],
   "source": [
    "import os\n",
    "def parent_directory():\n",
    "  # Create a relative path to the parent \n",
    "  # of the current working directory \n",
    "  path = os.getcwd()\n",
    "  relative_parent = os.path.abspath(os.path.join(path, os.pardir))\n",
    "  # Return the absolute path of the parent directory\n",
    "  return relative_parent\n",
    "\n",
    "print(parent_directory())"
   ]
  },
  {
   "cell_type": "code",
   "execution_count": null,
   "id": "2682b8bc",
   "metadata": {},
   "outputs": [],
   "source": []
  },
  {
   "cell_type": "code",
   "execution_count": null,
   "id": "f05506f4",
   "metadata": {},
   "outputs": [],
   "source": []
  }
 ],
 "metadata": {
  "kernelspec": {
   "display_name": "Python 3 (ipykernel)",
   "language": "python",
   "name": "python3"
  },
  "language_info": {
   "codemirror_mode": {
    "name": "ipython",
    "version": 3
   },
   "file_extension": ".py",
   "mimetype": "text/x-python",
   "name": "python",
   "nbconvert_exporter": "python",
   "pygments_lexer": "ipython3",
   "version": "3.7.2"
  }
 },
 "nbformat": 4,
 "nbformat_minor": 5
}
