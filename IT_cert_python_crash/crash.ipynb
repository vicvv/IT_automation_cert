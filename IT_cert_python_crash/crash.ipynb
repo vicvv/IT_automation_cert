{
 "cells": [
  {
   "cell_type": "code",
   "execution_count": null,
   "id": "19659669",
   "metadata": {},
   "outputs": [],
   "source": [
    "\"big\" > \"small\""
   ]
  },
  {
   "cell_type": "code",
   "execution_count": null,
   "id": "a9fa4844",
   "metadata": {},
   "outputs": [],
   "source": [
    "x=1;s=0\n",
    "while x <10:\n",
    "  s +=x\n",
    "  print(s,x)\n",
    "  x +=1\n",
    "print(s)"
   ]
  },
  {
   "cell_type": "code",
   "execution_count": null,
   "id": "dc6d6e16",
   "metadata": {},
   "outputs": [],
   "source": [
    "def is_power_of_two(n):\n",
    "  # Check if the number can be divided by two without a remainder\n",
    "  print(n, n%2)\n",
    "  while n % 2 == 0:\n",
    "    n = n /2\n",
    "    if n == 0:\n",
    "      return False\n",
    "    print(n)\n",
    "  # If after dividing by two the number is 1, it's a power of two\n",
    "  if n == 1:\n",
    "    return True\n",
    "  return False\n",
    "\n",
    "  \n",
    "\n",
    "#print(is_power_of_two(0)) # Should be False\n",
    "#print(is_power_of_two(1)) # Should be True\n",
    "print(is_power_of_two(8)) # Should be True\n",
    "print(is_power_of_two(9)) # Should be False"
   ]
  },
  {
   "cell_type": "code",
   "execution_count": null,
   "id": "4c3cb3c3",
   "metadata": {},
   "outputs": [],
   "source": [
    "def sum_divisors(n):\n",
    "  sum = 0\n",
    "  # Return the sum of all divisors of n, not including n\n",
    "  d = 1\n",
    "  while d <= n//2:\n",
    "    if n%d == 0:\n",
    "      sum +=d\n",
    "    d +=1\n",
    "      \n",
    "  return sum\n",
    "\n",
    "print(sum_divisors(0)) # 0\n",
    "print(sum_divisors(3)) # Should sum of 1# # 1\n",
    "print(sum_divisors(36)) # Should sum of 1+2+3+4+6+9+12+18 # # 55\n",
    "print(sum_divisors(102)) # Should be sum of 2+3+6+17+34+51 # # 114"
   ]
  },
  {
   "cell_type": "code",
   "execution_count": null,
   "id": "178a1f8b",
   "metadata": {},
   "outputs": [],
   "source": [
    "teams = [ 'Dragons', 'Wolves', 'Pandas', 'Unicorns']\n",
    "for home_team in teams:\n",
    "    for away_team in teams:\n",
    "      if home_team != away_team:\n",
    "        print(home_team, away_team)"
   ]
  },
  {
   "cell_type": "code",
   "execution_count": null,
   "id": "a856d988",
   "metadata": {},
   "outputs": [],
   "source": [
    "84/7"
   ]
  },
  {
   "cell_type": "code",
   "execution_count": null,
   "id": "5bf863de",
   "metadata": {},
   "outputs": [],
   "source": [
    "for x in range(1, 10, 3):\n",
    "    print(x)"
   ]
  },
  {
   "cell_type": "code",
   "execution_count": null,
   "id": "27a575c2",
   "metadata": {},
   "outputs": [],
   "source": [
    "for x in range(10):\n",
    "    for y in range(x):\n",
    "      print(y)"
   ]
  },
  {
   "cell_type": "code",
   "execution_count": null,
   "id": "baecb41f",
   "metadata": {},
   "outputs": [],
   "source": [
    "def is_palindrome(input_string):\n",
    "  # We'll create two strings, to compare them\n",
    "  new_string = \"\"\n",
    "  reverse_string = \"\"\n",
    "  # Traverse through each letter of the input string\n",
    "  for l in input_string:\n",
    "      # Add any non-blank letters to the \n",
    "      # end of one string, and to the front\n",
    "      # of the other string.\n",
    "      print(\"type\", l.isalpha())\n",
    "      if l.isalpha():\n",
    "          new_string = new_string + l\n",
    "          reverse_string = l + reverse_string\n",
    "  # Compare the strings\n",
    "  print(new_string, reverse_string)\n",
    "  if new_string.lower() == reverse_string.lower():\n",
    "      return True\n",
    "  return False\n",
    "\n",
    "print(is_palindrome(\"Never Odd or Even\")) # Should be True\n",
    "print(is_palindrome(\"abc\")) # Should be False\n",
    "print(is_palindrome(\"kayak\")) # Should be True"
   ]
  },
  {
   "cell_type": "code",
   "execution_count": null,
   "id": "41765dda",
   "metadata": {},
   "outputs": [],
   "source": [
    "filenames = [\"program.c\", \"stdio.hpp\", \"sample.hpp\", \"a.out\", \"math.hpp\", \"hpp.out\"]\n",
    "# Generate newfilenames as a list containing the new filenames\n",
    "# using as many lines of code as your chosen method requires.\n",
    "newfilenames =[]\n",
    "for file in filenames:\n",
    "  n, ext = file.split('.')\n",
    "  if ext == 'hpp':\n",
    "    newfilenames.append(n+\".h\")\n",
    "  else:\n",
    "    newfilenames.append(file)\n",
    "\n",
    "print(newfilenames) \n",
    "# Should be [\"program.c\", \"stdio.h\", \"sample.h\", \"a.out\", \"math.h\", \"hpp.out\"]"
   ]
  },
  {
   "cell_type": "code",
   "execution_count": null,
   "id": "de14b781",
   "metadata": {},
   "outputs": [],
   "source": [
    "def octal_to_string(octal):\n",
    "    result = \"\"\n",
    "    value_letters = [(4,\"r\"),(2,\"w\"),(1,\"x\")]\n",
    "    # Iterate over each of the digits in octal\n",
    "    for num in [int(n) for n in str(octal)]:\n",
    "      print(num)\n",
    "        # Check for each of the permissions values\n",
    "      for value, letter in value_letters:\n",
    "          print(value, letter)\n",
    "          if num >= value:\n",
    "            pass\n",
    "            result += num\n",
    "            #___ -= value\n",
    "          else:\n",
    "            #___\n",
    "    return result\n",
    "    \n",
    "print(octal_to_string(755)) # Should be rwxr-xr-x\n",
    "print(octal_to_string(644)) # Should be rw-r--r--\n",
    "print(octal_to_string(750)) # Should be rwxr-x---\n",
    "print(octal_to_string(600)) # Should be rw-------"
   ]
  },
  {
   "cell_type": "code",
   "execution_count": null,
   "id": "c6e45443",
   "metadata": {},
   "outputs": [],
   "source": [
    "def octal_to_string(octal):\n",
    "    result = \"\"\n",
    "    value_letters = [(4,\"r\"),(2,\"w\"),(1,\"x\")]\n",
    "    # Iterate over each of the digits in octal\n",
    "    for num in [int(n) for n in str(octal)]:\n",
    "        # Check for each of the permissions values\n",
    "        for value, letter in value_letters:\n",
    "            if num >= value:\n",
    "                result += letter\n",
    "                num -= value\n",
    "            else:\n",
    "                result +='-'\n",
    "    return result\n",
    "    \n",
    "print(octal_to_string(755)) # Should be rwxr-xr-x\n",
    "print(octal_to_string(644)) # Should be rw-r--r--\n",
    "print(octal_to_string(750)) # Should be rwxr-x---\n",
    "print(octal_to_string(600)) # Should be rw-------"
   ]
  },
  {
   "cell_type": "code",
   "execution_count": null,
   "id": "11513df0",
   "metadata": {},
   "outputs": [],
   "source": [
    "toc = {\"Introduction\":1, \"Chapter 1\":4, \"Chapter 2\":11, \"Chapter 3\":25, \"Chapter 4\":30}\n",
    "toc['Epilog']=39 # Epilogue starts on page 39\n",
    "toc['Chapter']=24 # Chapter 3 now starts on page 24\n",
    "print(toc) # What are the current contents of the dictionary?\n",
    "'Chapter 5'  in toc # Is there a Chapter 5?"
   ]
  },
  {
   "cell_type": "code",
   "execution_count": null,
   "id": "4cb7f65a",
   "metadata": {},
   "outputs": [],
   "source": [
    "wardrobe = {\"shirt\":[\"red\",\"blue\",\"white\"], \"jeans\":[\"blue\",\"black\"]}\n",
    "for key, val in wardrobe.items():\n",
    "  print(key, val[0])"
   ]
  },
  {
   "cell_type": "code",
   "execution_count": null,
   "id": "6aad9cc6",
   "metadata": {},
   "outputs": [],
   "source": [
    "def email_list(domains):\n",
    "\temails = []\n",
    "\tfor email, users in domains.items():\n",
    "\t  for user in users:\n",
    "\t    emails.append(user+'@'+email)\n",
    "\treturn(emails)\n",
    "\n",
    "print(email_list({\"gmail.com\": [\"clark.kent\", \"diana.prince\", \"peter.parker\"], \"yahoo.com\": [\"barbara.gordon\", \"jean.grey\"], \"hotmail.com\": [\"bruce.wayne\"]}))"
   ]
  },
  {
   "cell_type": "code",
   "execution_count": null,
   "id": "1b06b2c6",
   "metadata": {},
   "outputs": [],
   "source": [
    "def groups_per_user(group_dictionary):\n",
    "  user_groups = {}\n",
    "  # Go through group_dictionary\n",
    "  for group, users in group_dictionary.items():\n",
    "      # Now go through the users in the group\n",
    "      for user in users:\n",
    "          print(user, group)\n",
    "          if user not in user_groups:\n",
    "            user_groups[user] = [group]\n",
    "          else:\n",
    "            user_groups[user].append(group)\n",
    "\n",
    "  return(user_groups)\n",
    "\n",
    "print(groups_per_user({\"local\": [\"admin\", \"userA\"],\"public\":  [\"admin\", \"userB\"],\"administrator\": [\"admin\"] }))"
   ]
  },
  {
   "cell_type": "code",
   "execution_count": null,
   "id": "d83f1f57",
   "metadata": {},
   "outputs": [],
   "source": [
    "wardrobe = {'shirt': ['red', 'blue', 'white'], 'jeans': ['blue', 'black']}\n",
    "new_items = {'jeans': ['white'], 'scarf': ['yellow'], 'socks': ['black', 'brown']}\n",
    "wardrobe.update(new_items)\n",
    "print(wardrobe)"
   ]
  },
  {
   "cell_type": "code",
   "execution_count": null,
   "id": "6fd2bcc8",
   "metadata": {},
   "outputs": [],
   "source": [
    "s = \"Have a nice day\"\n",
    "s.split()"
   ]
  },
  {
   "cell_type": "code",
   "execution_count": null,
   "id": "6b96755a",
   "metadata": {},
   "outputs": [],
   "source": [
    "def format_address(address_string):\n",
    "  h, *st = address_string.split()\n",
    "  return \"house number {} on street named {}\".format(h, ' '.join(st))\n",
    "\n",
    "print(format_address(\"123 Main Street\"))\n",
    "# Should print: \"house number 123 on street named Main Street\"\n",
    "\n",
    "print(format_address(\"1001 1st Ave\"))\n",
    "# Should print: \"house number 1001 on street named 1st Ave\"\n",
    "\n",
    "print(format_address(\"55 North Center Drive\"))\n",
    "# Should print \"house number 55 on street named North Center Drive\""
   ]
  },
  {
   "cell_type": "code",
   "execution_count": null,
   "id": "d6115b42",
   "metadata": {},
   "outputs": [],
   "source": [
    "def highlight_word(sentence, word):\n",
    "  return ' '.join([ w.upper() if word in w else w for w in sentence.split()])\n",
    "\n",
    "\n",
    "print(highlight_word(\"Have a nice day\", \"nice\"))\n",
    "print(highlight_word(\"Shhh, don't be so loud!\", \"loud\"))\n",
    "print(highlight_word(\"Automating with Python is fun\", \"fun\"))"
   ]
  },
  {
   "cell_type": "code",
   "execution_count": null,
   "id": "33a06dbd",
   "metadata": {},
   "outputs": [],
   "source": [
    "def combine_guests(guests1, guests2):\n",
    "  # Combine both dictionaries into one, with each key listed \n",
    "  # only once, and the value from guests1 taking precedence\n",
    "  guests2.update(guests1)\n",
    "  return guests2\n",
    "\n",
    "Rorys_guests = { \"Adam\":2, \"Brenda\":3, \"David\":1, \"Jose\":3, \"Charlotte\":2, \"Terry\":1, \"Robert\":4}\n",
    "Taylors_guests = { \"David\":4, \"Nancy\":1, \"Robert\":2, \"Adam\":1, \"Samantha\":3, \"Chris\":5}\n",
    "\n",
    "\n",
    "print(combine_guests(Rorys_guests, Taylors_guests))"
   ]
  },
  {
   "cell_type": "code",
   "execution_count": null,
   "id": "136d546e",
   "metadata": {},
   "outputs": [],
   "source": [
    "colors = [\"red\", \"white\", \"blue\"]\n",
    "colors.insert(2, \"yellow\")\n",
    "colors"
   ]
  },
  {
   "cell_type": "code",
   "execution_count": null,
   "id": "3639e0fd",
   "metadata": {},
   "outputs": [],
   "source": [
    "animal = \"Hippopotamus\"\n",
    "print(animal[3:6])\n",
    "print(animal[-5])\n",
    "print(animal[10:])"
   ]
  },
  {
   "cell_type": "code",
   "execution_count": null,
   "id": "e419ee33",
   "metadata": {},
   "outputs": [],
   "source": [
    "!ls\n",
    "\n"
   ]
  },
  {
   "cell_type": "code",
   "execution_count": null,
   "id": "45b199e1",
   "metadata": {},
   "outputs": [],
   "source": [
    "!python\n"
   ]
  },
  {
   "cell_type": "code",
   "execution_count": null,
   "id": "65aaa3fe",
   "metadata": {},
   "outputs": [],
   "source": [
    "# define a basic city class\n",
    "class City:\n",
    "\tname = \"\"\n",
    "\tcountry = \"\"\n",
    "\televation = 0 \n",
    "\tpopulation = 0\n",
    "\n",
    "# create a new instance of the City class and\n",
    "# define each attribute\n",
    "city1 = City()\n",
    "city1.name = \"Cusco\"\n",
    "city1.country = \"Peru\"\n",
    "city1.elevation = 3399\n",
    "city1.population = 358052\n",
    "\n",
    "# create a new instance of the City class and\n",
    "# define each attribute\n",
    "city2 = City()\n",
    "city2.name = \"Sofia\"\n",
    "city2.country = \"Bulgaria\"\n",
    "city2.elevation = 2290\n",
    "city2.population = 1241675\n",
    "\n",
    "# create a new instance of the City class and\n",
    "# define each attribute\n",
    "city3 = City()\n",
    "city3.name = \"Seoul\"\n",
    "city3.country = \"South Korea\"\n",
    "city3.elevation = 38\n",
    "city3.population = 9733509\n",
    "\n",
    "def max_elevation_city(min_population):\n",
    "    highest_elevation = 0\n",
    "    # Initialize the variable that will hold \n",
    "    # the information of the city with \n",
    "    # the highest elevation \n",
    "    return_city = City()\n",
    "\n",
    "    # Evaluate the 1st instance to meet the requirements:\n",
    "    # does city #1 have at least min_population and\n",
    "    # is its elevation the highest evaluated so far?\n",
    "    if city1.population >= min_population and city1.elevation > return_city.elevation:\n",
    "        highest_elevation = return_city.elevation \n",
    "        return_city = city1\n",
    "    # Evaluate the 2nd instance to meet the requirements:\n",
    "    # does city #2 have at least min_population and\n",
    "    # is its elevation the highest evaluated so far?\n",
    "    if city2.population >= min_population and city2.elevation > return_city.elevation:\n",
    "        highest_elevation = return_city.elevation \n",
    "        return_city = city2\n",
    "    # Evaluate the 3rd instance to meet the requirements:\n",
    "    # does city #3 have at least min_population and\n",
    "    # is its elevation the highest evaluated so far?\n",
    "    if city3.population >= min_population and city3.elevation > return_city.elevation:\n",
    "        highest_elevation = return_city.elevation \n",
    "        return_city =  city3\n",
    "\n",
    "    #Format the return string\n",
    "    if return_city.name:\n",
    "        return \"{}, {}\".format(return_city.name, return_city.country)\n",
    "    else:\n",
    "        return \"\"\n",
    "\n",
    "print(max_elevation_city(100000)) # Should print \"Cusco, Peru\"\n",
    "print(max_elevation_city(1000000)) # Should print \"Sofia, Bulgaria\"\n",
    "print(max_elevation_city(10000000)) # Should print \"\""
   ]
  },
  {
   "cell_type": "code",
   "execution_count": 13,
   "id": "f12bea31",
   "metadata": {},
   "outputs": [
    {
     "name": "stdout",
     "output_type": "stream",
     "text": [
      "1\n"
     ]
    }
   ],
   "source": [
    "s = \"What's is, the?, problme! over here?\"\n",
    "k = s.split()\n",
    "res =''\n",
    "for word in k:\n",
    "  res += ''.join([l for l in word if l.isalpha()])+ ' '\n",
    "\n",
    "print(res.count('is'))"
   ]
  },
  {
   "cell_type": "code",
   "execution_count": 16,
   "id": "a54de659",
   "metadata": {},
   "outputs": [
    {
     "ename": "ModuleNotFoundError",
     "evalue": "No module named 'wordcloud'",
     "output_type": "error",
     "traceback": [
      "\u001b[0;31m---------------------------------------------------------------------------\u001b[0m",
      "\u001b[0;31mModuleNotFoundError\u001b[0m                       Traceback (most recent call last)",
      "\u001b[0;32m/var/folders/85/btrqvyzx4flgy2htrsc7py8r0000gn/T/ipykernel_44241/576011489.py\u001b[0m in \u001b[0;36m<module>\u001b[0;34m\u001b[0m\n\u001b[0;32m----> 1\u001b[0;31m \u001b[0;32mimport\u001b[0m \u001b[0mwordcloud\u001b[0m\u001b[0;34m\u001b[0m\u001b[0;34m\u001b[0m\u001b[0m\n\u001b[0m\u001b[1;32m      2\u001b[0m \u001b[0mcloud\u001b[0m \u001b[0;34m=\u001b[0m \u001b[0mwordcloud\u001b[0m\u001b[0;34m.\u001b[0m\u001b[0mWordCloud\u001b[0m\u001b[0;34m(\u001b[0m\u001b[0;34m)\u001b[0m\u001b[0;34m\u001b[0m\u001b[0;34m\u001b[0m\u001b[0m\n\u001b[1;32m      3\u001b[0m \u001b[0mcloud\u001b[0m\u001b[0;34m.\u001b[0m\u001b[0mgenerate_from_frequencies\u001b[0m\u001b[0;34m(\u001b[0m\u001b[0mfrequencies\u001b[0m\u001b[0;34m)\u001b[0m\u001b[0;34m\u001b[0m\u001b[0;34m\u001b[0m\u001b[0m\n\u001b[1;32m      4\u001b[0m \u001b[0mcloud\u001b[0m\u001b[0;34m.\u001b[0m\u001b[0mto_file\u001b[0m\u001b[0;34m(\u001b[0m\u001b[0;34m\"myfile.jpg\"\u001b[0m\u001b[0;34m)\u001b[0m\u001b[0;34m\u001b[0m\u001b[0;34m\u001b[0m\u001b[0m\n",
      "\u001b[0;31mModuleNotFoundError\u001b[0m: No module named 'wordcloud'"
     ]
    }
   ],
   "source": [
    "import wordcloud\n",
    "cloud = wordcloud.WordCloud()\n",
    "cloud.generate_from_frequencies(frequencies)\n",
    "cloud.to_file(\"myfile.jpg\")"
   ]
  },
  {
   "cell_type": "code",
   "execution_count": 19,
   "id": "aa2c030c",
   "metadata": {},
   "outputs": [
    {
     "name": "stdout",
     "output_type": "stream",
     "text": [
      "whatsup what,sup\n"
     ]
    }
   ],
   "source": [
    "s = \"what,sup\"\n",
    "\n",
    "k = s.replace(\",\",'')\n",
    "print(k,s)"
   ]
  },
  {
   "cell_type": "code",
   "execution_count": 31,
   "id": "76523d6f",
   "metadata": {},
   "outputs": [
    {
     "name": "stdout",
     "output_type": "stream",
     "text": [
      "0\n"
     ]
    }
   ],
   "source": [
    "import os\n",
    "def create_python_script(filename):\n",
    "  \n",
    "  comments = \"# Start of a new Python program\"\n",
    "  with open(\"program.py\", 'w') as pfile:\n",
    "    pfile.write(comments)\n",
    "    filesize = os.path.getsize(\"program.py\")\n",
    "  return(filesize)\n",
    "\n",
    "print(create_python_script(\"program.py\"))"
   ]
  },
  {
   "cell_type": "code",
   "execution_count": 23,
   "id": "ac70ad42",
   "metadata": {},
   "outputs": [
    {
     "name": "stdout",
     "output_type": "stream",
     "text": [
      "# Start of a new Python program"
     ]
    }
   ],
   "source": [
    "!cat program.py"
   ]
  },
  {
   "cell_type": "code",
   "execution_count": 34,
   "id": "85119ce7",
   "metadata": {},
   "outputs": [
    {
     "name": "stdout",
     "output_type": "stream",
     "text": [
      "['script.py']\n"
     ]
    }
   ],
   "source": [
    "import os\n",
    "\n",
    "def new_directory(directory, filename):\n",
    "  # Before creating a new directory, check to see if it already exists\n",
    "  if os.path.isdir(directory) == False:\n",
    "    os.mkdir(directory)\n",
    "\n",
    "  # Create the new file inside of the new directory\n",
    "  os.chdir(directory)\n",
    "  with open (filename,'w') as file:\n",
    "    pass\n",
    "\n",
    "  # Return the list of files in the new directory\n",
    "  return os.listdir()\n",
    "\n",
    "print(new_directory(\"PythonPrograms\", \"script.py\"))"
   ]
  },
  {
   "cell_type": "code",
   "execution_count": 43,
   "id": "4d81b2ac",
   "metadata": {},
   "outputs": [
    {
     "name": "stdout",
     "output_type": "stream",
     "text": [
      "1663035635.5738802\n",
      "2022-09-12\n"
     ]
    }
   ],
   "source": [
    "import os\n",
    "import datetime\n",
    "\n",
    "def file_date(filename):\n",
    "  with open(filename,'w') as file:\n",
    "    pass\n",
    "  timestamp = os.path.getctime(filename)\n",
    "  # Convert the timestamp into a readable format, then into a string\n",
    "  print(timestamp)\n",
    "  res = datetime.datetime.fromtimestamp(timestamp).strftime('%Y-%m-%d')\n",
    "  #datetime.fromtimestamp(1382189138.4196026).strftime('%Y-%m-%d %H:%M:%S')\n",
    "  return (res)\n",
    "  # Return just the date portion \n",
    "  # Hint: how many characters are in “yyyy-mm-dd”? \n",
    "  #return (\"{___}\".format())\n",
    "\n",
    "print(file_date(\"newfile.txt\")) \n",
    "# Should be today's date in the format of yyyy-mm-dd"
   ]
  },
  {
   "cell_type": "code",
   "execution_count": null,
   "id": "11f7f271",
   "metadata": {},
   "outputs": [],
   "source": [
    "import os\n",
    "def parent_directory():\n",
    "  # Create a relative path to the parent \n",
    "  # of the current working directory \n",
    "  relative_parent = os.path.join(___, ___)\n",
    "\n",
    "  # Return the absolute path of the parent directory\n",
    "  return ___\n",
    "\n",
    "print(parent_directory())"
   ]
  },
  {
   "cell_type": "code",
   "execution_count": null,
   "id": "67e9b7ab",
   "metadata": {},
   "outputs": [],
   "source": []
  }
 ],
 "metadata": {
  "kernelspec": {
   "display_name": "Python 3 (ipykernel)",
   "language": "python",
   "name": "python3"
  },
  "language_info": {
   "codemirror_mode": {
    "name": "ipython",
    "version": 3
   },
   "file_extension": ".py",
   "mimetype": "text/x-python",
   "name": "python",
   "nbconvert_exporter": "python",
   "pygments_lexer": "ipython3",
   "version": "3.7.2"
  }
 },
 "nbformat": 4,
 "nbformat_minor": 5
}
