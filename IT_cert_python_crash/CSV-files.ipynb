{
 "cells": [
  {
   "cell_type": "code",
   "execution_count": 21,
   "id": "6e4c989a",
   "metadata": {},
   "outputs": [
    {
     "ename": "FileNotFoundError",
     "evalue": "[Errno 2] No such file or directory: 'csv_file.txt'",
     "output_type": "error",
     "traceback": [
      "\u001b[0;31m---------------------------------------------------------------------------\u001b[0m",
      "\u001b[0;31mFileNotFoundError\u001b[0m                         Traceback (most recent call last)",
      "\u001b[0;32m/var/folders/85/btrqvyzx4flgy2htrsc7py8r0000gn/T/ipykernel_36278/1311602549.py\u001b[0m in \u001b[0;36m<module>\u001b[0;34m\u001b[0m\n\u001b[1;32m      1\u001b[0m \u001b[0;32mimport\u001b[0m \u001b[0mcsv\u001b[0m\u001b[0;34m\u001b[0m\u001b[0;34m\u001b[0m\u001b[0m\n\u001b[0;32m----> 2\u001b[0;31m \u001b[0mf\u001b[0m \u001b[0;34m=\u001b[0m \u001b[0mopen\u001b[0m\u001b[0;34m(\u001b[0m\u001b[0;34m'csv_file.txt'\u001b[0m\u001b[0;34m)\u001b[0m\u001b[0;34m\u001b[0m\u001b[0;34m\u001b[0m\u001b[0m\n\u001b[0m\u001b[1;32m      3\u001b[0m \u001b[0mcsv_f\u001b[0m \u001b[0;34m=\u001b[0m \u001b[0mcsv\u001b[0m\u001b[0;34m.\u001b[0m\u001b[0mreader\u001b[0m\u001b[0;34m(\u001b[0m\u001b[0mf\u001b[0m\u001b[0;34m)\u001b[0m\u001b[0;34m\u001b[0m\u001b[0;34m\u001b[0m\u001b[0m\n\u001b[1;32m      4\u001b[0m \u001b[0;32mfor\u001b[0m \u001b[0mrow\u001b[0m \u001b[0;32min\u001b[0m \u001b[0mcsv_f\u001b[0m\u001b[0;34m:\u001b[0m\u001b[0;34m\u001b[0m\u001b[0;34m\u001b[0m\u001b[0m\n\u001b[1;32m      5\u001b[0m   \u001b[0mprint\u001b[0m\u001b[0;34m(\u001b[0m\u001b[0mrow\u001b[0m\u001b[0;34m)\u001b[0m\u001b[0;34m\u001b[0m\u001b[0;34m\u001b[0m\u001b[0m\n",
      "\u001b[0;31mFileNotFoundError\u001b[0m: [Errno 2] No such file or directory: 'csv_file.txt'"
     ]
    }
   ],
   "source": [
    "import csv\n",
    "f = open('csv_file.txt')\n",
    "csv_f = csv.reader(f)\n",
    "for row in csv_f:\n",
    "  print(row)"
   ]
  },
  {
   "cell_type": "code",
   "execution_count": null,
   "id": "ff14f7c5",
   "metadata": {},
   "outputs": [],
   "source": [
    "'''\n",
    "We're working with a list of flowers and some information about each one. The create_file function \n",
    "writes this information to a CSV file. The contents_of_file function reads this file into records and \n",
    "returns the information in a nicely formatted block. Fill in the gaps of the contents_of_file function \n",
    "to turn the data in the CSV file into a dictionary using DictReader.\n",
    "'''"
   ]
  },
  {
   "cell_type": "code",
   "execution_count": 22,
   "id": "7d5f0512",
   "metadata": {},
   "outputs": [
    {
     "name": "stdout",
     "output_type": "stream",
     "text": [
      "a pink carnation is annual\n",
      "a yellow daffodil is perennial\n",
      "a blue iris is perennial\n",
      "a red poinsettia is perennial\n",
      "a yellow sunflower is annual\n",
      "\n"
     ]
    }
   ],
   "source": [
    "import os\n",
    "import csv\n",
    "\n",
    "# Create a file with data in it\n",
    "def create_file(filename):\n",
    "  with open(filename, \"w\") as file:\n",
    "    file.write(\"name,color,type\\n\")\n",
    "    file.write(\"carnation,pink,annual\\n\")\n",
    "    file.write(\"daffodil,yellow,perennial\\n\")\n",
    "    file.write(\"iris,blue,perennial\\n\")\n",
    "    file.write(\"poinsettia,red,perennial\\n\")\n",
    "    file.write(\"sunflower,yellow,annual\\n\")\n",
    "\n",
    "# Read the file contents and format the information about each row\n",
    "def contents_of_file(filename):\n",
    "  return_string = \"\"\n",
    "\n",
    "  # Call the function to create the file \n",
    "  create_file(filename)\n",
    "\n",
    "  # Open the file\n",
    "  with open(filename) as fl:\n",
    "    csv_readir = csv.DictReader(fl)\n",
    "    # Read the rows of the file into a dictionary\n",
    "    # Process each item of the dictionary\n",
    "    for row in csv_readir:\n",
    "      return_string += \"a {} {} is {}\\n\".format(row[\"color\"], row[\"name\"], row[\"type\"])\n",
    "  return return_string\n",
    "\n",
    "#Call the function\n",
    "print(contents_of_file(\"flowers.csv\"))"
   ]
  },
  {
   "cell_type": "code",
   "execution_count": 6,
   "id": "53352934",
   "metadata": {},
   "outputs": [
    {
     "name": "stdout",
     "output_type": "stream",
     "text": [
      "name,color,type\r\n",
      "carnation,pink,annual\r\n",
      "daffodil,yellow,perennial\r\n",
      "iris,blue,perennial\r\n",
      "poinsettia,red,perennial\r\n",
      "sunflower,yellow,annual\r\n"
     ]
    }
   ],
   "source": [
    "'''\n",
    "Using the CSV file of flowers again, fill in the gaps of the contents_of_file \n",
    "function to process the data without turning it into a dictionary. \n",
    "How do you skip over the header record with the field names?\n",
    "'''"
   ]
  },
  {
   "cell_type": "code",
   "execution_count": 11,
   "id": "0dc915fb",
   "metadata": {},
   "outputs": [
    {
     "name": "stdout",
     "output_type": "stream",
     "text": [
      "a carnation pink is annual\n",
      "a daffodil yellow is perennial\n",
      "a iris blue is perennial\n",
      "a poinsettia red is perennial\n",
      "a sunflower yellow is annual\n",
      "\n"
     ]
    }
   ],
   "source": [
    "import os\n",
    "import csv\n",
    "\n",
    "# Create a file with data in it\n",
    "def create_file(filename):\n",
    "  with open(filename, \"w\") as file:\n",
    "    file.write(\"name,color,type\\n\")\n",
    "    file.write(\"carnation,pink,annual\\n\")\n",
    "    file.write(\"daffodil,yellow,perennial\\n\")\n",
    "    file.write(\"iris,blue,perennial\\n\")\n",
    "    file.write(\"poinsettia,red,perennial\\n\")\n",
    "    file.write(\"sunflower,yellow,annual\\n\")\n",
    "\n",
    "# Read the file contents and format the information about each row\n",
    "def contents_of_file(filename):\n",
    "  return_string = \"\"\n",
    "\n",
    "  # Call the function to create the file \n",
    "  create_file(filename)\n",
    "\n",
    "  # Open the file\n",
    "  with open (filename) as fl:\n",
    "    # Read the rows of the file\n",
    "    rows = csv.reader(fl)\n",
    "    next(rows)\n",
    "    # Process each row\n",
    "    for row in rows:\n",
    "      name, color, type  = row\n",
    "      # Format the return string for data rows only\n",
    "\n",
    "      return_string += \"a {} {} is {}\\n\".format(name, color,type)\n",
    "  return return_string\n",
    "\n",
    "#Call the function\n",
    "print(contents_of_file(\"flowers.csv\"))"
   ]
  },
  {
   "cell_type": "code",
   "execution_count": 12,
   "id": "1bab1528",
   "metadata": {},
   "outputs": [
    {
     "name": "stdout",
     "output_type": "stream",
     "text": [
      "/Users/vicky/Desktop/Desktop/CodePracticePython/IT_cert_python\r\n"
     ]
    }
   ],
   "source": [
    "!pwd\n"
   ]
  },
  {
   "cell_type": "code",
   "execution_count": 18,
   "id": "a252ab3b",
   "metadata": {},
   "outputs": [],
   "source": [
    "import os\n",
    "import csv\n",
    "\n",
    "def read_employees(csv_file_location):\n",
    "  csv.register_dialect('empDialect', skipinitialspace=True, strict=True)\n",
    "  employee_file = csv.DictReader(open(csv_file_location), dialect = 'empDialect')\n",
    "  employee_list = []\n",
    "  for data in employee_file:\n",
    "    employee_list.append(data)\n",
    "  return employee_list\n",
    "\n",
    "employee_list = read_employees('/Users/vicky/Desktop/Desktop/CodePracticePython/IT_cert_python/employees.csv')\n",
    "#print(employee_list)\n",
    "\n",
    "def process_data(employee_list):\n",
    "  department_list = []\n",
    "  for employee_data in employee_list:\n",
    "    department_list.append(employee_data['Department'])\n",
    "  \n",
    "  department_data = {}\n",
    "  for department_name in set(department_list):\n",
    "    department_data[department_name] = department_list.count(department_name)\n",
    "  return department_data\n",
    "\n",
    "dictionary = process_data(employee_list)\n",
    "#print(dictionary)\n",
    "\n",
    "\n",
    "def write_report(dictionary, report_file):\n",
    "    with open(report_file, \"w+\") as f:\n",
    "      for k in sorted(dictionary):\n",
    "        f.write(str(k)+':'+str(dictionary[k])+'\\n')\n",
    "      f.close()\n",
    "      \n",
    "write_report(dictionary, 'report.txt')"
   ]
  },
  {
   "cell_type": "code",
   "execution_count": 19,
   "id": "424f268d",
   "metadata": {},
   "outputs": [
    {
     "name": "stdout",
     "output_type": "stream",
     "text": [
      "Development:4\r\n",
      "Human Resources:2\r\n",
      "IT infrastructure:4\r\n",
      "Marketing:2\r\n",
      "Sales:3\r\n",
      "User Experience Research:2\r\n",
      "Vendor operations:2\r\n"
     ]
    }
   ],
   "source": [
    "!cat report.txt\n"
   ]
  },
  {
   "cell_type": "code",
   "execution_count": null,
   "id": "ba9831ef",
   "metadata": {},
   "outputs": [],
   "source": []
  }
 ],
 "metadata": {
  "kernelspec": {
   "display_name": "Python 3 (ipykernel)",
   "language": "python",
   "name": "python3"
  },
  "language_info": {
   "codemirror_mode": {
    "name": "ipython",
    "version": 3
   },
   "file_extension": ".py",
   "mimetype": "text/x-python",
   "name": "python",
   "nbconvert_exporter": "python",
   "pygments_lexer": "ipython3",
   "version": "3.7.2"
  }
 },
 "nbformat": 4,
 "nbformat_minor": 5
}
