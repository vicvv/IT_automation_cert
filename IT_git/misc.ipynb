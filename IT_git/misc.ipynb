{
 "cells": [
  {
   "cell_type": "code",
   "execution_count": null,
   "id": "ee2b9f04",
   "metadata": {},
   "outputs": [],
   "source": [
    "#!/usr/bin/env python3\n",
    "\n",
    "import re\n",
    "\n",
    "def validate_user(username, minlen):\n",
    "    \"\"\"Checks if the received username matches the required conditions.\"\"\"\n",
    "    if type(username) != str:\n",
    "        raise TypeError(\"username must be a string\")\n",
    "    if minlen < 1:\n",
    "        raise ValueError(\"minlen must be at least 1\")\n",
    "    # Usernames can't be shorter than minlen\n",
    "    if len(username) < minlen:\n",
    "        return False\n",
    "    # Usernames can only use letters, numbers, dots and underscores\n",
    "    if not re.match('^[a-z].', username):\n",
    "        return False\n",
    "    if not re.match('^[a-z0-9._]*$', username):\n",
    "        return False\n",
    "    # Usernames can't begin with a number\n",
    "    if username[0].isnumeric():\n",
    "        return False\n",
    "    return True\n",
    "\n",
    "print(validate_user(\"blue.kale\", 3)) # True\n",
    "print(validate_user(\".blue.kale\", 3)) # Currently True, should be False\n",
    "print(validate_user(\"red_quinoa\", 4)) # True\n",
    "print(validate_user(\"_red_quinoa\", 4)) # Currently True, should be False"
   ]
  },
  {
   "cell_type": "code",
   "execution_count": null,
   "id": "50dc36b9",
   "metadata": {},
   "outputs": [],
   "source": [
    "import re\n",
    "def compare_strings(string1, string2):\n",
    "  #Convert both strings to lowercase \n",
    "  #and remove leading and trailing blanks\n",
    "  string1 = string1.lower().strip()\n",
    "  string2 = string2.lower().strip()\n",
    "\n",
    "  #Ignore punctuation\n",
    "  punctuation = r\"[.?!,;:\\-']\"\n",
    "  string1 = re.sub(punctuation, \"\", string1)\n",
    "  string2 = re.sub(punctuation, \"\", string2)\n",
    "\n",
    "  #DEBUG CODE GOES HERE\n",
    "  #print(string1, string2)\n",
    "\n",
    "  return string1 == string2\n",
    "\n",
    "print(compare_strings(\"Have a Great Day!\", \"Have a great day?\")) # True\n",
    "print(compare_strings(\"It's raining again.\", \"its raining, again\")) # True\n",
    "print(compare_strings(\"Learn to count: 1, 2, 3.\", \"Learn to count: one, two, three.\")) # False\n",
    "print(compare_strings(\"They found some body.\", \"They found somebody.\")) # False"
   ]
  },
  {
   "cell_type": "code",
   "execution_count": 19,
   "id": "6e325570",
   "metadata": {},
   "outputs": [
    {
     "name": "stdout",
     "output_type": "stream",
     "text": [
      "after_convert 2021-01-01 00:00:00\n",
      "in 2021-01-01 00:00:00\n",
      "new_day_obj 2022-01-01 00:00:00\n",
      "2022-01-01\n"
     ]
    }
   ],
   "source": [
    "import datetime\n",
    "from datetime import date\n",
    "\n",
    "def add_year(date_obj):\n",
    "  print(\"in\",date_obj)\n",
    "  try:\n",
    "    new_date_obj = date_obj.replace(year=date_obj.year + 1)\n",
    "    #new_date_obj = date_obj.replace(year = date_obj.year + 1)\n",
    "    print(\"new_day_obj\",new_date_obj)\n",
    "  except ValueError:\n",
    "    # This gets executed when the above method fails, \n",
    "    # which means that we're making a Leap Year calculation\n",
    "    new_date_obj = date_obj.replace(year = date_obj.year + 4)\n",
    "  return new_date_obj\n",
    "\n",
    "def next_date(date_string):\n",
    "  # Convert the argument from string to date object\n",
    "  #date_obj = datetime.datetime.strptime(date_string, '%Y-%m-%d')\n",
    "  date_obj = datetime.datetime.strptime(date_string, \"%Y-%m-%d\")\n",
    "  #date_obj = datetime.datetime.strptime(date_string, \"%Y-%M-%D\").date()\n",
    "  print(\"after_convert\", date_obj)\n",
    "  next_date_obj = add_year(date_obj)\n",
    "  \n",
    "\n",
    "  # Convert the datetime object to string, \n",
    "  # in the format of \"yyyy-mm-dd\"\n",
    "  next_date_string = str(next_date_obj).split()[0]\n",
    "  \n",
    "  return next_date_string\n",
    "\n",
    "today = date.today()  # Get today's date\n",
    "#print(today)\n",
    "#print(\"today\", next_date(str(today))) \n",
    "# Should return a year from today, unless today is Leap Day\n",
    "\n",
    "print(next_date(\"2021-01-01\")) # Should return 2022-01-01\n",
    "#print(next_date(\"2020-02-29\")) # Should return 2024-02-29"
   ]
  },
  {
   "cell_type": "code",
   "execution_count": null,
   "id": "caf9cf9a",
   "metadata": {},
   "outputs": [],
   "source": [
    "from datetime import datetime, date\n",
    "\n",
    "\n",
    "def add_years(start_date, years):\n",
    "    try:\n",
    "        newdate = start_date.replace(year=start_date.year + years)\n",
    "    except ValueError:\n",
    "        # 👇️ preseve calendar day (if Feb 29th doesn't exist, set to 28th)\n",
    "        newdate = start_date.replace(year=start_date.year + years, day=28)\n",
    "    return newdate\n",
    "      \n",
    "      \n",
    "today = date.today()\n",
    "print(add_years(today,1))"
   ]
  },
  {
   "cell_type": "code",
   "execution_count": null,
   "id": "8eed2333",
   "metadata": {},
   "outputs": [],
   "source": [
    "from datetime import datetime\n",
    "\n",
    "datetime_str = \"2021-01-01\"\n",
    "\n",
    "datetime_object2 = datetime.strptime(datetime_str, '%y-%m-%d')\n",
    "\n",
    "print(type(datetime_object2))\n",
    "print(datetime_object2)  # printed in default format"
   ]
  },
  {
   "cell_type": "code",
   "execution_count": 4,
   "id": "5a9f8e83",
   "metadata": {},
   "outputs": [
    {
     "name": "stdout",
     "output_type": "stream",
     "text": [
      "2021-01-01\n"
     ]
    }
   ],
   "source": [
    "import datetime \n",
    "\n",
    "d = datetime.datetime.strptime(\"2021-01-01\", \"%Y-%m-%d\")\n",
    "\n",
    "# Convert datetime object to date object.\n",
    "d = d.date()\n",
    "\n",
    "print(d.isoformat())\n",
    "# 1973-01-25"
   ]
  },
  {
   "cell_type": "code",
   "execution_count": null,
   "id": "02d297f0",
   "metadata": {},
   "outputs": [],
   "source": []
  }
 ],
 "metadata": {
  "kernelspec": {
   "display_name": "Python 3.7.2 ('base')",
   "language": "python",
   "name": "python3"
  },
  "language_info": {
   "codemirror_mode": {
    "name": "ipython",
    "version": 3
   },
   "file_extension": ".py",
   "mimetype": "text/x-python",
   "name": "python",
   "nbconvert_exporter": "python",
   "pygments_lexer": "ipython3",
   "version": "3.7.2"
  },
  "vscode": {
   "interpreter": {
    "hash": "99b146a13f08811f2242e57f019cb3567881b6619f6a41eef2fc438cb8f770bf"
   }
  }
 },
 "nbformat": 4,
 "nbformat_minor": 5
}
